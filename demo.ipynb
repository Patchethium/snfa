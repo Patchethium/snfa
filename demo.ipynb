{
 "cells": [
  {
   "cell_type": "code",
   "execution_count": null,
   "id": "7f93a455",
   "metadata": {},
   "outputs": [],
   "source": [
    "import jpreprocess as jpp\n",
    "import torchaudio as ta\n",
    "\n",
    "from snfa import Aligner\n",
    "\n",
    "aligner = Aligner()\n",
    "jp = jpp.jpreprocess()\n",
    "\n",
    "wav_file = \"tests/common_voice_ja_19482480.mp3\"\n",
    "text_file = \"tests/common_voice_ja_19482480.txt\"\n",
    "\n",
    "wav, sr = ta.load(wav_file)\n",
    "if sr != aligner.sr:\n",
    "    wav = ta.functional.resample(wav, sr, aligner.sr)\n",
    "\n",
    "wav = wav.squeeze().numpy()\n",
    "\n",
    "with open(text_file) as f:\n",
    "    text = f.readline().rstrip()\n",
    "\n",
    "phoneme = jp.g2p(text).lower().split()\n",
    "segments = aligner.align(wav, phoneme, pad_pause=True)"
   ]
  },
  {
   "cell_type": "code",
   "execution_count": null,
   "id": "46abc9d9",
   "metadata": {},
   "outputs": [],
   "source": [
    "print(\"\\n\".join([str(seg) for seg in segments]))"
   ]
  },
  {
   "cell_type": "code",
   "execution_count": null,
   "id": "5a01a0b3",
   "metadata": {},
   "outputs": [],
   "source": [
    "from IPython.display import Audio\n",
    "\n",
    "i = 6\n",
    "\n",
    "print(segments[i])\n",
    "\n",
    "start = int(segments[i][1] * aligner.sr / 1000)\n",
    "end = int(segments[i][2] * aligner.sr / 1000)\n",
    "\n",
    "Audio(wav[start:end], rate=aligner.sr)"
   ]
  }
 ],
 "metadata": {
  "kernelspec": {
   "display_name": "snfa",
   "language": "python",
   "name": "python3"
  },
  "language_info": {
   "codemirror_mode": {
    "name": "ipython",
    "version": 3
   },
   "file_extension": ".py",
   "mimetype": "text/x-python",
   "name": "python",
   "nbconvert_exporter": "python",
   "pygments_lexer": "ipython3",
   "version": "3.10.18"
  }
 },
 "nbformat": 4,
 "nbformat_minor": 5
}
